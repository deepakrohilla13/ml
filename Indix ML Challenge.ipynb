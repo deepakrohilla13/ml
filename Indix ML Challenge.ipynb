{
 "cells": [
  {
   "cell_type": "markdown",
   "metadata": {},
   "source": [
    "# Given problem could be solved by using hasmaps with run time of O(n) and memory usage of O(n) in worst case senarios because it's possible to write a deterministic function to compute hasmap of parent of leaf nodes.\n",
    "\n",
    "# Below we will try to solve it with machine learning."
   ]
  },
  {
   "cell_type": "code",
   "execution_count": 36,
   "metadata": {
    "collapsed": true
   },
   "outputs": [],
   "source": [
    "import matplotlib\n",
    "import os\n",
    "import numpy as np\n",
    "import pandas as pd\n",
    "import json\n",
    "import io\n",
    "import matplotlib.pyplot as plt\n",
    "\n",
    "from IPython.core.display import display, HTML\n",
    "from __future__ import print_function\n",
    "from sklearn.cross_validation import train_test_split\n",
    "from sklearn import preprocessing\n",
    "from sklearn.linear_model import RidgeClassifier\n",
    "from sklearn.svm import LinearSVC\n",
    "from sklearn.preprocessing import LabelEncoder\n",
    "from sklearn.linear_model import SGDClassifier\n",
    "from sklearn.linear_model import PassiveAggressiveClassifier\n",
    "from sklearn.naive_bayes import BernoulliNB, MultinomialNB\n",
    "from sklearn.neighbors import KNeighborsClassifier\n",
    "from sklearn.neighbors import NearestCentroid\n",
    "from sklearn.ensemble import RandomForestClassifier, AdaBoostClassifier\n",
    "from sklearn.utils.extmath import density\n",
    "from sklearn import metrics\n",
    "from sklearn.metrics import make_scorer\n",
    "from sklearn.grid_search import GridSearchCV\n",
    "from sklearn.cross_validation import ShuffleSplit\n",
    "\n",
    "from collections import defaultdict\n",
    "\n",
    "\n",
    "%matplotlib inline  "
   ]
  },
  {
   "cell_type": "markdown",
   "metadata": {},
   "source": [
    "# GUI twiks"
   ]
  },
  {
   "cell_type": "code",
   "execution_count": 22,
   "metadata": {
    "collapsed": true
   },
   "outputs": [],
   "source": [
    "pd.set_option('display.max_colwidth', -1)\n",
    "pd.set_option(\"display.max_rows\",999)\n",
    "\n",
    "\n",
    "#pd.reset_option(\"display.max_rows\")\n",
    "#pd.get_option(\"display.max_rows\")"
   ]
  },
  {
   "cell_type": "markdown",
   "metadata": {},
   "source": [
    "# Loading data into dataframe and calculating depth of the leaf nodes."
   ]
  },
  {
   "cell_type": "code",
   "execution_count": 23,
   "metadata": {
    "collapsed": true
   },
   "outputs": [],
   "source": [
    "d = defaultdict(LabelEncoder)\n",
    "\n",
    "category_json_path = 'categories.json'\n",
    "cat_file = open(category_json_path).read()\n",
    "cat_js = json.loads(cat_file)\n",
    "cat_dict_by_id = {}\n",
    "\n",
    "for x in cat_js:\n",
    "    cat_dict_by_id[x['id']] = x\n",
    "    \n",
    "all_leaf_list = []\n",
    "for x in list(filter(lambda x: x['leaf'] == True, cat_js)):\n",
    "    all_leaf_list.append(x)\n",
    "    \n",
    "df = pd.read_json(cat_file)\n",
    "df['depth'] = None\n",
    "df.loc[:,['depth']] = (df.apply(lambda row: float(len(row['path'].split('>'))), axis=1)).values"
   ]
  },
  {
   "cell_type": "markdown",
   "metadata": {},
   "source": [
    "# A sneak peek of our dataset."
   ]
  },
  {
   "cell_type": "code",
   "execution_count": 24,
   "metadata": {
    "collapsed": false
   },
   "outputs": [
    {
     "data": {
      "text/html": [
       "<div>\n",
       "<table border=\"1\" class=\"dataframe\">\n",
       "  <thead>\n",
       "    <tr style=\"text-align: right;\">\n",
       "      <th></th>\n",
       "      <th>id</th>\n",
       "      <th>leaf</th>\n",
       "      <th>name</th>\n",
       "      <th>path</th>\n",
       "      <th>pathWithIds</th>\n",
       "      <th>depth</th>\n",
       "    </tr>\n",
       "  </thead>\n",
       "  <tbody>\n",
       "    <tr>\n",
       "      <th>0</th>\n",
       "      <td>10161</td>\n",
       "      <td>False</td>\n",
       "      <td>Computers &amp; Accessories</td>\n",
       "      <td>Computers &amp; Accessories</td>\n",
       "      <td>10161</td>\n",
       "      <td>1.0</td>\n",
       "    </tr>\n",
       "    <tr>\n",
       "      <th>1</th>\n",
       "      <td>10162</td>\n",
       "      <td>False</td>\n",
       "      <td>Sports &amp; Outdoors</td>\n",
       "      <td>Sports &amp; Outdoors</td>\n",
       "      <td>10162</td>\n",
       "      <td>1.0</td>\n",
       "    </tr>\n",
       "    <tr>\n",
       "      <th>2</th>\n",
       "      <td>10163</td>\n",
       "      <td>False</td>\n",
       "      <td>Automotive</td>\n",
       "      <td>Automotive</td>\n",
       "      <td>10163</td>\n",
       "      <td>1.0</td>\n",
       "    </tr>\n",
       "    <tr>\n",
       "      <th>3</th>\n",
       "      <td>10164</td>\n",
       "      <td>False</td>\n",
       "      <td>Home &amp; Kitchen</td>\n",
       "      <td>Home &amp; Kitchen</td>\n",
       "      <td>10164</td>\n",
       "      <td>1.0</td>\n",
       "    </tr>\n",
       "    <tr>\n",
       "      <th>4</th>\n",
       "      <td>10165</td>\n",
       "      <td>False</td>\n",
       "      <td>Office Products</td>\n",
       "      <td>Office Products</td>\n",
       "      <td>10165</td>\n",
       "      <td>1.0</td>\n",
       "    </tr>\n",
       "    <tr>\n",
       "      <th>5</th>\n",
       "      <td>10166</td>\n",
       "      <td>False</td>\n",
       "      <td>Clothing &amp; Accessories</td>\n",
       "      <td>Clothing &amp; Accessories</td>\n",
       "      <td>10166</td>\n",
       "      <td>1.0</td>\n",
       "    </tr>\n",
       "    <tr>\n",
       "      <th>6</th>\n",
       "      <td>10167</td>\n",
       "      <td>False</td>\n",
       "      <td>Tools &amp; Home Improvement</td>\n",
       "      <td>Tools &amp; Home Improvement</td>\n",
       "      <td>10167</td>\n",
       "      <td>1.0</td>\n",
       "    </tr>\n",
       "    <tr>\n",
       "      <th>7</th>\n",
       "      <td>10168</td>\n",
       "      <td>False</td>\n",
       "      <td>Electronics</td>\n",
       "      <td>Electronics</td>\n",
       "      <td>10168</td>\n",
       "      <td>1.0</td>\n",
       "    </tr>\n",
       "    <tr>\n",
       "      <th>8</th>\n",
       "      <td>10169</td>\n",
       "      <td>False</td>\n",
       "      <td>Jewelry</td>\n",
       "      <td>Jewelry</td>\n",
       "      <td>10169</td>\n",
       "      <td>1.0</td>\n",
       "    </tr>\n",
       "    <tr>\n",
       "      <th>9</th>\n",
       "      <td>10170</td>\n",
       "      <td>False</td>\n",
       "      <td>Health &amp; Personal Care</td>\n",
       "      <td>Health &amp; Personal Care</td>\n",
       "      <td>10170</td>\n",
       "      <td>1.0</td>\n",
       "    </tr>\n",
       "  </tbody>\n",
       "</table>\n",
       "</div>"
      ],
      "text/plain": [
       "      id   leaf                      name                      path  \\\n",
       "0  10161  False  Computers & Accessories   Computers & Accessories    \n",
       "1  10162  False  Sports & Outdoors         Sports & Outdoors          \n",
       "2  10163  False  Automotive                Automotive                 \n",
       "3  10164  False  Home & Kitchen            Home & Kitchen             \n",
       "4  10165  False  Office Products           Office Products            \n",
       "5  10166  False  Clothing & Accessories    Clothing & Accessories     \n",
       "6  10167  False  Tools & Home Improvement  Tools & Home Improvement   \n",
       "7  10168  False  Electronics               Electronics                \n",
       "8  10169  False  Jewelry                   Jewelry                    \n",
       "9  10170  False  Health & Personal Care    Health & Personal Care     \n",
       "\n",
       "  pathWithIds  depth  \n",
       "0  10161       1.0    \n",
       "1  10162       1.0    \n",
       "2  10163       1.0    \n",
       "3  10164       1.0    \n",
       "4  10165       1.0    \n",
       "5  10166       1.0    \n",
       "6  10167       1.0    \n",
       "7  10168       1.0    \n",
       "8  10169       1.0    \n",
       "9  10170       1.0    "
      ]
     },
     "execution_count": 24,
     "metadata": {},
     "output_type": "execute_result"
    }
   ],
   "source": [
    "df.head(10)"
   ]
  },
  {
   "cell_type": "markdown",
   "metadata": {},
   "source": [
    "# Sample of our interest containing leaf nodes only."
   ]
  },
  {
   "cell_type": "code",
   "execution_count": 25,
   "metadata": {
    "collapsed": false
   },
   "outputs": [
    {
     "data": {
      "text/html": [
       "<div>\n",
       "<table border=\"1\" class=\"dataframe\">\n",
       "  <thead>\n",
       "    <tr style=\"text-align: right;\">\n",
       "      <th></th>\n",
       "      <th>id</th>\n",
       "      <th>leaf</th>\n",
       "      <th>name</th>\n",
       "      <th>path</th>\n",
       "      <th>pathWithIds</th>\n",
       "      <th>depth</th>\n",
       "    </tr>\n",
       "  </thead>\n",
       "  <tbody>\n",
       "    <tr>\n",
       "      <th>24</th>\n",
       "      <td>15999</td>\n",
       "      <td>True</td>\n",
       "      <td>Internal Cd Drives</td>\n",
       "      <td>Computers &amp; Accessories &gt; Computer Components &gt; Internal Optical Drives &gt; Internal Cd Drives</td>\n",
       "      <td>10161 &gt; 15997 &gt; 15998 &gt; 15999</td>\n",
       "      <td>4.0</td>\n",
       "    </tr>\n",
       "    <tr>\n",
       "      <th>29</th>\n",
       "      <td>16004</td>\n",
       "      <td>True</td>\n",
       "      <td>Boys</td>\n",
       "      <td>Sports &amp; Outdoors &gt; Fan Shop &gt; Clothing &amp; Accessories &gt; Sweatshirts &gt; Kids &gt; Boys</td>\n",
       "      <td>10162 &gt; 16000 &gt; 16001 &gt; 16002 &gt; 16003 &gt; 16004</td>\n",
       "      <td>6.0</td>\n",
       "    </tr>\n",
       "    <tr>\n",
       "      <th>33</th>\n",
       "      <td>16008</td>\n",
       "      <td>True</td>\n",
       "      <td>Boots</td>\n",
       "      <td>Automotive &gt; Motorcycle &amp; Powersports &gt; Protective Gear &gt; Footwear &gt; Boots</td>\n",
       "      <td>10163 &gt; 16005 &gt; 16006 &gt; 16007 &gt; 16008</td>\n",
       "      <td>5.0</td>\n",
       "    </tr>\n",
       "    <tr>\n",
       "      <th>35</th>\n",
       "      <td>16010</td>\n",
       "      <td>True</td>\n",
       "      <td>Kids Bikes &amp; Accessories</td>\n",
       "      <td>Sports &amp; Outdoors &gt; Cycling &gt; Kids Bikes &amp; Accessories</td>\n",
       "      <td>10162 &gt; 16009 &gt; 16010</td>\n",
       "      <td>3.0</td>\n",
       "    </tr>\n",
       "    <tr>\n",
       "      <th>38</th>\n",
       "      <td>16013</td>\n",
       "      <td>True</td>\n",
       "      <td>Bells &amp; Sleigh Bells</td>\n",
       "      <td>Home &amp; Kitchen &gt; Seasonal Décor &gt; Ornaments &gt; Bells &amp; Sleigh Bells</td>\n",
       "      <td>10164 &gt; 16011 &gt; 16012 &gt; 16013</td>\n",
       "      <td>4.0</td>\n",
       "    </tr>\n",
       "    <tr>\n",
       "      <th>42</th>\n",
       "      <td>16017</td>\n",
       "      <td>True</td>\n",
       "      <td>Link Kits</td>\n",
       "      <td>Automotive &gt; Replacement Parts &gt; Shocks Struts &amp; Suspension &gt; Sway Bars &amp; Parts &gt; Link Kits</td>\n",
       "      <td>10163 &gt; 16014 &gt; 16015 &gt; 16016 &gt; 16017</td>\n",
       "      <td>5.0</td>\n",
       "    </tr>\n",
       "    <tr>\n",
       "      <th>45</th>\n",
       "      <td>16020</td>\n",
       "      <td>True</td>\n",
       "      <td>Foam Boards</td>\n",
       "      <td>Office Products &gt; Education &amp; Crafts &gt; Arts &amp; Crafts Supplies &gt; Foam Boards</td>\n",
       "      <td>10165 &gt; 16018 &gt; 16019 &gt; 16020</td>\n",
       "      <td>4.0</td>\n",
       "    </tr>\n",
       "    <tr>\n",
       "      <th>49</th>\n",
       "      <td>16023</td>\n",
       "      <td>True</td>\n",
       "      <td>Tankinis</td>\n",
       "      <td>Clothing &amp; Accessories &gt; Women &gt; Swimsuits &amp; Cover Ups &gt; Tankinis</td>\n",
       "      <td>10166 &gt; 16021 &gt; 16022 &gt; 16023</td>\n",
       "      <td>4.0</td>\n",
       "    </tr>\n",
       "    <tr>\n",
       "      <th>51</th>\n",
       "      <td>16026</td>\n",
       "      <td>True</td>\n",
       "      <td>Wear To Work</td>\n",
       "      <td>Clothing &amp; Accessories &gt; Women &gt; Maternity &gt; Dresses &gt; Wear To Work</td>\n",
       "      <td>10166 &gt; 16021 &gt; 16024 &gt; 16025 &gt; 16026</td>\n",
       "      <td>5.0</td>\n",
       "    </tr>\n",
       "    <tr>\n",
       "      <th>55</th>\n",
       "      <td>16030</td>\n",
       "      <td>True</td>\n",
       "      <td>Ceramic Tiles</td>\n",
       "      <td>Tools &amp; Home Improvement &gt; Building Supplies &gt; Building Materials &gt; Tiles &gt; Ceramic Tiles</td>\n",
       "      <td>10167 &gt; 16027 &gt; 16028 &gt; 16029 &gt; 16030</td>\n",
       "      <td>5.0</td>\n",
       "    </tr>\n",
       "  </tbody>\n",
       "</table>\n",
       "</div>"
      ],
      "text/plain": [
       "       id  leaf                      name  \\\n",
       "24  15999  True  Internal Cd Drives         \n",
       "29  16004  True  Boys                       \n",
       "33  16008  True  Boots                      \n",
       "35  16010  True  Kids Bikes & Accessories   \n",
       "38  16013  True  Bells & Sleigh Bells       \n",
       "42  16017  True  Link Kits                  \n",
       "45  16020  True  Foam Boards                \n",
       "49  16023  True  Tankinis                   \n",
       "51  16026  True  Wear To Work               \n",
       "55  16030  True  Ceramic Tiles              \n",
       "\n",
       "                                                                                            path  \\\n",
       "24  Computers & Accessories > Computer Components > Internal Optical Drives > Internal Cd Drives   \n",
       "29  Sports & Outdoors > Fan Shop > Clothing & Accessories > Sweatshirts > Kids > Boys              \n",
       "33  Automotive > Motorcycle & Powersports > Protective Gear > Footwear > Boots                     \n",
       "35  Sports & Outdoors > Cycling > Kids Bikes & Accessories                                         \n",
       "38  Home & Kitchen > Seasonal Décor > Ornaments > Bells & Sleigh Bells                             \n",
       "42  Automotive > Replacement Parts > Shocks Struts & Suspension > Sway Bars & Parts > Link Kits    \n",
       "45  Office Products > Education & Crafts > Arts & Crafts Supplies > Foam Boards                    \n",
       "49  Clothing & Accessories > Women > Swimsuits & Cover Ups > Tankinis                              \n",
       "51  Clothing & Accessories > Women > Maternity > Dresses > Wear To Work                            \n",
       "55  Tools & Home Improvement > Building Supplies > Building Materials > Tiles > Ceramic Tiles      \n",
       "\n",
       "                                      pathWithIds  depth  \n",
       "24  10161 > 15997 > 15998 > 15999                  4.0    \n",
       "29  10162 > 16000 > 16001 > 16002 > 16003 > 16004  6.0    \n",
       "33  10163 > 16005 > 16006 > 16007 > 16008          5.0    \n",
       "35  10162 > 16009 > 16010                          3.0    \n",
       "38  10164 > 16011 > 16012 > 16013                  4.0    \n",
       "42  10163 > 16014 > 16015 > 16016 > 16017          5.0    \n",
       "45  10165 > 16018 > 16019 > 16020                  4.0    \n",
       "49  10166 > 16021 > 16022 > 16023                  4.0    \n",
       "51  10166 > 16021 > 16024 > 16025 > 16026          5.0    \n",
       "55  10167 > 16027 > 16028 > 16029 > 16030          5.0    "
      ]
     },
     "execution_count": 25,
     "metadata": {},
     "output_type": "execute_result"
    }
   ],
   "source": [
    "df[df.leaf == True].head(10)"
   ]
  },
  {
   "cell_type": "markdown",
   "metadata": {},
   "source": [
    "# Further data pre-processing.\n",
    "\n",
    "\n",
    "1. Converting all text to lower case.\n",
    "2. Grouping on name to figure-out duplicate leafs.\n",
    "3. Encoding data.\n",
    "4. Building more features using one hot vectors (to compare performance of classifiers with synthetic features set)."
   ]
  },
  {
   "cell_type": "code",
   "execution_count": 26,
   "metadata": {
    "collapsed": true
   },
   "outputs": [],
   "source": [
    "df['name'] = df['name'].str.lower()\n",
    "df['path'] = df['path'].str.lower()\n",
    "names_count_df = df.groupby(['name']).agg(['count'])\n",
    "names_duplicate_df = names_count_df[(names_count_df['id']['count'] > 1)]\n",
    "df['duplicates'] = False\n",
    "df['duplicates'] = np.where(df['name'].isin(names_duplicate_df.index) & df['leaf'] == True, 1, 0)\n",
    "\n",
    "df = df[df.leaf == 1]\n",
    "\n",
    "unique_categories = set()\n",
    "#all_paths = [x.split('>') for x in df['path']]\n",
    "#tmp = [unique_categories.update(each) for each in all_paths]\n",
    "\n",
    "for c in unique_categories:\n",
    "    df[c] = np.where(df['path'].str.contains(c), 1.0, 0.0)\n",
    "    \n",
    "    \n",
    "df['leaf'] = np.where(df['leaf'] == True, 1.0, 0.0)\n",
    "\n",
    "leName = LabelEncoder()\n",
    "lePath = LabelEncoder()\n",
    "\n",
    "leName.fit(df['name'])\n",
    "df['name'] = leName.transform(df['name'])\n",
    "\n",
    "lePath.fit(df['path'])\n",
    "df['path'] = lePath.transform(df['path'])"
   ]
  },
  {
   "cell_type": "markdown",
   "metadata": {},
   "source": [
    "# Data view after encoding."
   ]
  },
  {
   "cell_type": "code",
   "execution_count": 27,
   "metadata": {
    "collapsed": false
   },
   "outputs": [
    {
     "data": {
      "text/html": [
       "<div>\n",
       "<table border=\"1\" class=\"dataframe\">\n",
       "  <thead>\n",
       "    <tr style=\"text-align: right;\">\n",
       "      <th></th>\n",
       "      <th>id</th>\n",
       "      <th>leaf</th>\n",
       "      <th>name</th>\n",
       "      <th>path</th>\n",
       "      <th>pathWithIds</th>\n",
       "      <th>depth</th>\n",
       "      <th>duplicates</th>\n",
       "    </tr>\n",
       "  </thead>\n",
       "  <tbody>\n",
       "    <tr>\n",
       "      <th>24</th>\n",
       "      <td>15999</td>\n",
       "      <td>1.0</td>\n",
       "      <td>2526</td>\n",
       "      <td>1796</td>\n",
       "      <td>10161 &gt; 15997 &gt; 15998 &gt; 15999</td>\n",
       "      <td>4.0</td>\n",
       "      <td>0</td>\n",
       "    </tr>\n",
       "    <tr>\n",
       "      <th>29</th>\n",
       "      <td>16004</td>\n",
       "      <td>1.0</td>\n",
       "      <td>604</td>\n",
       "      <td>6034</td>\n",
       "      <td>10162 &gt; 16000 &gt; 16001 &gt; 16002 &gt; 16003 &gt; 16004</td>\n",
       "      <td>6.0</td>\n",
       "      <td>1</td>\n",
       "    </tr>\n",
       "    <tr>\n",
       "      <th>33</th>\n",
       "      <td>16008</td>\n",
       "      <td>1.0</td>\n",
       "      <td>575</td>\n",
       "      <td>414</td>\n",
       "      <td>10163 &gt; 16005 &gt; 16006 &gt; 16007 &gt; 16008</td>\n",
       "      <td>5.0</td>\n",
       "      <td>1</td>\n",
       "    </tr>\n",
       "    <tr>\n",
       "      <th>35</th>\n",
       "      <td>16010</td>\n",
       "      <td>1.0</td>\n",
       "      <td>2625</td>\n",
       "      <td>5843</td>\n",
       "      <td>10162 &gt; 16009 &gt; 16010</td>\n",
       "      <td>3.0</td>\n",
       "      <td>0</td>\n",
       "    </tr>\n",
       "    <tr>\n",
       "      <th>38</th>\n",
       "      <td>16013</td>\n",
       "      <td>1.0</td>\n",
       "      <td>429</td>\n",
       "      <td>3782</td>\n",
       "      <td>10164 &gt; 16011 &gt; 16012 &gt; 16013</td>\n",
       "      <td>4.0</td>\n",
       "      <td>0</td>\n",
       "    </tr>\n",
       "  </tbody>\n",
       "</table>\n",
       "</div>"
      ],
      "text/plain": [
       "       id  leaf  name  path                                    pathWithIds  \\\n",
       "24  15999  1.0   2526  1796  10161 > 15997 > 15998 > 15999                   \n",
       "29  16004  1.0   604   6034  10162 > 16000 > 16001 > 16002 > 16003 > 16004   \n",
       "33  16008  1.0   575   414   10163 > 16005 > 16006 > 16007 > 16008           \n",
       "35  16010  1.0   2625  5843  10162 > 16009 > 16010                           \n",
       "38  16013  1.0   429   3782  10164 > 16011 > 16012 > 16013                   \n",
       "\n",
       "    depth  duplicates  \n",
       "24  4.0    0           \n",
       "29  6.0    1           \n",
       "33  5.0    1           \n",
       "35  3.0    0           \n",
       "38  4.0    0           "
      ]
     },
     "execution_count": 27,
     "metadata": {},
     "output_type": "execute_result"
    }
   ],
   "source": [
    "df.head(5)"
   ]
  },
  {
   "cell_type": "code",
   "execution_count": 28,
   "metadata": {
    "collapsed": false
   },
   "outputs": [
    {
     "data": {
      "text/html": [
       "<h1>Duplicate percentage in prepared dataset: <span style=\"background-color: yellow;\">51.0256410256 %.</span></h1>"
      ],
      "text/plain": [
       "<IPython.core.display.HTML object>"
      ]
     },
     "metadata": {},
     "output_type": "display_data"
    }
   ],
   "source": [
    "display(HTML('<h1>Duplicate percentage in prepared dataset: <span style=\"background-color: yellow;\">'+str((float(len(df[df.duplicates == 1]))/float(len(df)))*100)+ ' %.</span></h1>'))"
   ]
  },
  {
   "cell_type": "markdown",
   "metadata": {},
   "source": [
    "# As we can see above we have almost uniform distribution of duplicate leafs in our filtered dataset, so we can use Accuracy matric for evaluation of our classifiers instead of using F-score, Precision, Recall etc..\n",
    "\n",
    "<span style=\"background-color: #fdffa3; font-size: 20px;\">Below is a **historgram** graph showing distribution of duplicate and single leafs in our filtered dataset.</span>"
   ]
  },
  {
   "cell_type": "code",
   "execution_count": 30,
   "metadata": {
    "collapsed": false
   },
   "outputs": [
    {
     "data": {
      "image/png": "[encoded data removed]",
      "text/plain": [
       "<matplotlib.figure.Figure at 0x7f399e275d50>"
      ]
     },
     "metadata": {},
     "output_type": "display_data"
    }
   ],
   "source": [
    "plt.hist(df.duplicates,bins = [0.0,0.5,1.0])\n",
    "plt.ylabel('Occurance')\n",
    "plt.xlabel('Labels')\n",
    "frame = plt.gca()\n",
    "frame.axes.get_xaxis().set_ticks([0,1])\n",
    "plt.xticks(df.duplicates,['Single','Duplicate'])\n",
    "plt.title('Duplicates for occurances')\n",
    "plt.show()"
   ]
  },
  {
   "cell_type": "code",
   "execution_count": 31,
   "metadata": {
    "collapsed": false
   },
   "outputs": [
    {
     "data": {
      "image/png": "[encoded data removed]",
      "text/plain": [
       "<matplotlib.figure.Figure at 0x7f398f7c84d0>"
      ]
     },
     "metadata": {},
     "output_type": "display_data"
    }
   ],
   "source": [
    "#plt.hist(df.depth)\n",
    "plt.ylabel('Occurance')\n",
    "plt.xlabel('Depth')\n",
    "plt.hist(df.depth[df.duplicates == 1], alpha=0.5, label='Leafs with no duplicate')\n",
    "plt.hist(df.depth[df.duplicates == 0], alpha=0.5, label='Leafs with duplicate')\n",
    "plt.legend(loc='upper right')\n",
    "plt.title('Depth of leafs for occurances')\n",
    "plt.show()"
   ]
  },
  {
   "cell_type": "code",
   "execution_count": 32,
   "metadata": {
    "collapsed": true
   },
   "outputs": [],
   "source": [
    "df_with_encode = df.copy()\n",
    "\n",
    "df_with_encode.drop('path', axis=1, inplace=True)\n",
    "df_with_encode.drop('id', axis=1, inplace=True)\n",
    "df_with_encode.drop('pathWithIds', axis=1, inplace=True)\n",
    "\n",
    "x_with_encode = df_with_encode.copy()\n",
    "y_with_encode = df_with_encode['duplicates']\n",
    "x_with_encode.drop('duplicates', axis=1, inplace=True)"
   ]
  },
  {
   "cell_type": "code",
   "execution_count": 33,
   "metadata": {
    "collapsed": true
   },
   "outputs": [],
   "source": [
    "x = df.copy()\n",
    "\n",
    "x.drop('id', axis=1, inplace=True)\n",
    "x.drop('pathWithIds', axis=1, inplace=True)\n",
    "\n",
    "y = df['duplicates']\n",
    "x.drop('duplicates', axis=1, inplace=True)"
   ]
  },
  {
   "cell_type": "code",
   "execution_count": 7,
   "metadata": {
    "collapsed": true
   },
   "outputs": [],
   "source": [
    "def classify(clf):\n",
    "    print(\"--------------------------------\\nTraining with: \"+str(clf))\n",
    "    clf.fit(X_train, y_train)\n",
    "    pred = clf.predict(X_test)\n",
    "    score = metrics.accuracy_score(y_test, pred)\n",
    "    print(\"accuracy:   %0.3f\" % score)\n",
    "    clf_descr = str(clf).split('(')[0]\n",
    "    return str(clf), clf_descr, score\n",
    "\n",
    "def classify_with_encode(clf):\n",
    "    print(\"--------------------------------\\nTraining with -- with_encode : \"+str(clf))\n",
    "    clf.fit(X_train_with_encode, y_train_with_encode)\n",
    "    pred = clf.predict(X_test_with_encode)\n",
    "    score = metrics.accuracy_score(y_test_with_encode, pred)\n",
    "    print(\"accuracy:   %0.3f\" % score)\n",
    "    clf_descr = str(clf).split('(')[0]\n",
    "    return str(clf)+\"___with_encode\", clf_descr, score"
   ]
  },
  {
   "cell_type": "code",
   "execution_count": 34,
   "metadata": {
    "collapsed": true
   },
   "outputs": [],
   "source": [
    "X_train_with_encode, X_test_with_encode, y_train_with_encode, y_test_with_encode = train_test_split(x_with_encode, y_with_encode, test_size=0.33, random_state=42)\n",
    "X_train, X_test, y_train, y_test = train_test_split(x, y, test_size=0.33, random_state=42)"
   ]
  },
  {
   "cell_type": "code",
   "execution_count": 35,
   "metadata": {
    "collapsed": true
   },
   "outputs": [],
   "source": [
    "def classify(clf):\n",
    "    print(\"--------------------------------\\nTraining with: \"+str(clf))\n",
    "    clf.fit(X_train, y_train)\n",
    "    pred = clf.predict(X_test)\n",
    "    score = metrics.accuracy_score(y_test, pred)\n",
    "    print(\"accuracy:   %0.3f\" % score)\n",
    "    clf_descr = str(clf).split('(')[0]\n",
    "    return str(clf), clf_descr, score\n",
    "\n",
    "def classify_with_encode(clf):\n",
    "    print(\"--------------------------------\\nTraining with -- with_encode : \"+str(clf))\n",
    "    clf.fit(X_train_with_encode, y_train_with_encode)\n",
    "    pred = clf.predict(X_test_with_encode)\n",
    "    score = metrics.accuracy_score(y_test_with_encode, pred)\n",
    "    print(\"accuracy:   %0.3f\" % score)\n",
    "    clf_descr = str(clf).split('(')[0]\n",
    "    return str(clf)+\"___with_encode\", clf_descr, score"
   ]
  },
  {
   "cell_type": "markdown",
   "metadata": {},
   "source": [
    "# Quick performance review for different classifiers on our dataset."
   ]
  },
  {
   "cell_type": "code",
   "execution_count": 8,
   "metadata": {
    "collapsed": false
   },
   "outputs": [
    {
     "name": "stdout",
     "output_type": "stream",
     "text": [
      "--------------------------------\n",
      "Training with: RidgeClassifier(alpha=1.0, class_weight=None, copy_X=True, fit_intercept=True,\n",
      "        max_iter=None, normalize=False, random_state=None, solver='lsqr',\n",
      "        tol=0.01)\n",
      "accuracy:   0.508\n",
      "--------------------------------\n",
      "Training with -- with_encode : RidgeClassifier(alpha=1.0, class_weight=None, copy_X=True, fit_intercept=True,\n",
      "        max_iter=None, normalize=False, random_state=None, solver='lsqr',\n",
      "        tol=0.01)\n",
      "accuracy:   0.491\n",
      "--------------------------------\n",
      "Training with: KNeighborsClassifier(algorithm='auto', leaf_size=30, metric='minkowski',\n",
      "           metric_params=None, n_jobs=1, n_neighbors=10, p=2,\n",
      "           weights='uniform')\n",
      "accuracy:   0.639\n",
      "--------------------------------\n",
      "Training with -- with_encode : KNeighborsClassifier(algorithm='auto', leaf_size=30, metric='minkowski',\n",
      "           metric_params=None, n_jobs=1, n_neighbors=10, p=2,\n",
      "           weights='uniform')\n",
      "accuracy:   0.638\n",
      "--------------------------------\n",
      "Training with: RandomForestClassifier(bootstrap=True, class_weight=None, criterion='gini',\n",
      "            max_depth=None, max_features='auto', max_leaf_nodes=None,\n",
      "            min_samples_leaf=1, min_samples_split=2,\n",
      "            min_weight_fraction_leaf=0.0, n_estimators=100, n_jobs=1,\n",
      "            oob_score=False, random_state=None, verbose=0,\n",
      "            warm_start=False)\n",
      "accuracy:   0.707\n",
      "--------------------------------\n",
      "Training with -- with_encode : RandomForestClassifier(bootstrap=True, class_weight=None, criterion='gini',\n",
      "            max_depth=None, max_features='auto', max_leaf_nodes=None,\n",
      "            min_samples_leaf=1, min_samples_split=2,\n",
      "            min_weight_fraction_leaf=0.0, n_estimators=100, n_jobs=1,\n",
      "            oob_score=False, random_state=None, verbose=0,\n",
      "            warm_start=False)\n",
      "accuracy:   0.701\n",
      "--------------------------------\n",
      "Training with: AdaBoostClassifier(algorithm='SAMME.R', base_estimator=None,\n",
      "          learning_rate=1.0, n_estimators=50, random_state=None)\n",
      "accuracy:   0.676\n",
      "--------------------------------\n",
      "Training with -- with_encode : AdaBoostClassifier(algorithm='SAMME.R', base_estimator=None,\n",
      "          learning_rate=1.0, n_estimators=50, random_state=None)\n",
      "accuracy:   0.586\n"
     ]
    }
   ],
   "source": [
    "results = []\n",
    "for clf, name in (\n",
    "        (RidgeClassifier(tol=1e-2, solver=\"lsqr\"), \"Ridge Classifier\"),\n",
    "        #(Perceptron(n_iter=50), \"Perceptron\"),\n",
    "        #(PassiveAggressiveClassifier(n_iter=50), \"Passive-Aggressive\"),\n",
    "        (KNeighborsClassifier(n_neighbors=10), \"kNN\"),\n",
    "        (RandomForestClassifier(n_estimators=100), \"Random forest\"),\n",
    "        (AdaBoostClassifier(),\"AdaBoost Classifier\")):\n",
    "    results.append(classify(clf))\n",
    "    results.append(classify_with_encode(clf))"
   ]
  },
  {
   "cell_type": "markdown",
   "metadata": {},
   "source": [
    "# Further trying to optimize the RandomForestClassifier selected from above evaluation using GridSearchCV\n",
    "\n",
    "**Note: ** We can also use __RandomizedSearchCV__ for performance improvements."
   ]
  },
  {
   "cell_type": "code",
   "execution_count": 9,
   "metadata": {
    "collapsed": true
   },
   "outputs": [],
   "source": [
    "def scoring_a(y_true, y_predict):\n",
    "    return metrics.accuracy_score(y_true, y_predict)"
   ]
  },
  {
   "cell_type": "markdown",
   "metadata": {},
   "source": [
    "Excluding \"oob_score\" as it will through error with \"bootstrap = False\"\n",
    "\n",
    "**_Note:_**: Below code was executed on AWS GUP enabled (g2.2xlarge) instance to gain more CPU power."
   ]
  },
  {
   "cell_type": "code",
   "execution_count": 11,
   "metadata": {
    "collapsed": false
   },
   "outputs": [
    {
     "name": "stdout",
     "output_type": "stream",
     "text": [
      "Best Accuracy: 0.705516705517\n",
      "RandomForestClassifier(bootstrap=True, class_weight=None, criterion='entropy',\n",
      "            max_depth=None, max_features='auto', max_leaf_nodes=None,\n",
      "            min_samples_leaf=1, min_samples_split=1,\n",
      "            min_weight_fraction_leaf=0.0, n_estimators=70, n_jobs=1,\n",
      "            oob_score=False, random_state=4242, verbose=0, warm_start=True)\n"
     ]
    }
   ],
   "source": [
    "clf = RandomForestClassifier()\n",
    "parameters = {\n",
    "                'n_estimators':(70,80,90,100,110,120,130),\n",
    "                'warm_start':(True, False),\n",
    "                'criterion':('gini','entropy'), \n",
    "                #'oob_score':(True, False),\n",
    "                'bootstrap':(True,False),\n",
    "                'min_samples_split':(1,2,3),\n",
    "                'random_state':[4242]\n",
    "            }\n",
    "scorer = make_scorer(scoring_a)\n",
    "cv_sets = ShuffleSplit(X_train.shape[0], n_iter = 10, test_size = 0.20, random_state = 0)\n",
    "grid_obj = GridSearchCV(clf, parameters, cv = cv_sets)#, scoring = scorer)\n",
    "grid_fit = grid_obj.fit(X_train, y_train)\n",
    "best_clf = grid_fit.best_estimator_\n",
    "print(\"Best Accuracy: \"+str(scoring_a(best_clf.predict(X_test),y_test)))\n",
    "print(best_clf)"
   ]
  },
  {
   "cell_type": "markdown",
   "metadata": {},
   "source": [
    "**Trying best parameters obtained by above GridSearchCV with oob_score = True to see if we can improve model's performance further.**"
   ]
  },
  {
   "cell_type": "code",
   "execution_count": 20,
   "metadata": {
    "collapsed": false
   },
   "outputs": [
    {
     "name": "stdout",
     "output_type": "stream",
     "text": [
      "Best Accuracy: 0.705516705517\n",
      "RandomForestClassifier(bootstrap=True, class_weight=None, criterion='entropy',\n",
      "            max_depth=None, max_features='auto', max_leaf_nodes=None,\n",
      "            min_samples_leaf=1, min_samples_split=1,\n",
      "            min_weight_fraction_leaf=0.0, n_estimators=70, n_jobs=1,\n",
      "            oob_score=True, random_state=4242, verbose=0, warm_start=True)\n"
     ]
    }
   ],
   "source": [
    "clf = RandomForestClassifier()\n",
    "parameters = {\n",
    "                'n_estimators':[70],\n",
    "                'warm_start':[True, False],\n",
    "                'criterion':['entropy','gini'], \n",
    "                'oob_score':[True, False],\n",
    "                'bootstrap':[True],\n",
    "                'min_samples_split':[1],\n",
    "                'random_state':[4242]\n",
    "            }\n",
    "scorer = make_scorer(scoring_a)\n",
    "cv_sets = ShuffleSplit(X_train.shape[0], n_iter = 10, test_size = 0.20, random_state = 0)\n",
    "grid_obj = GridSearchCV(clf, parameters, cv = cv_sets)#, scoring = scorer)\n",
    "grid_fit = grid_obj.fit(X_train, y_train)\n",
    "best_clf = grid_fit.best_estimator_\n",
    "print(\"Best Accuracy: \"+str(scoring_a(best_clf.predict(X_test),y_test)))\n",
    "print(best_clf)"
   ]
  },
  {
   "cell_type": "markdown",
   "metadata": {},
   "source": [
    "# _Conclusion_: RandomForestClassifier gave us best results (70%) with default settings further optimization using GridSearchCV did't produce significant improvements in model's performance."
   ]
  }
 ],
 "metadata": {
  "anaconda-cloud": {},
  "kernelspec": {
   "display_name": "Python [conda env:p]",
   "language": "python",
   "name": "conda-env-p-py"
  },
  "language_info": {
   "codemirror_mode": {
    "name": "ipython",
    "version": 2
   },
   "file_extension": ".py",
   "mimetype": "text/x-python",
   "name": "python",
   "nbconvert_exporter": "python",
   "pygments_lexer": "ipython2",
   "version": "2.7.12"
  }
 },
 "nbformat": 4,
 "nbformat_minor": 1
}
